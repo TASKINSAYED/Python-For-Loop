{
 "cells": [
  {
   "cell_type": "code",
   "execution_count": 1,
   "id": "07529067-b306-43b8-81af-73a317a536b5",
   "metadata": {},
   "outputs": [
    {
     "name": "stdout",
     "output_type": "stream",
     "text": [
      "1\n",
      "2\n",
      "3\n",
      "4\n",
      "5\n",
      "6\n",
      "7\n",
      "8\n",
      "9\n",
      "10\n"
     ]
    }
   ],
   "source": [
    "##Answers of Questions\n",
    "#1)\n",
    "for i in range(1, 11):\n",
    "    print(i)\n"
   ]
  },
  {
   "cell_type": "code",
   "execution_count": 2,
   "id": "dac8f373-37ae-46aa-8ddd-88f33143ba67",
   "metadata": {},
   "outputs": [
    {
     "name": "stdout",
     "output_type": "stream",
     "text": [
      "Sum of numbers in the list: 15\n"
     ]
    }
   ],
   "source": [
    "#2)\n",
    "def calculate_sum(numbers):\n",
    "    total = 0\n",
    "    for num in numbers:\n",
    "        total += num\n",
    "    return total\n",
    "numbers_list = [1, 2, 3, 4, 5]\n",
    "print(\"Sum of numbers in the list:\", calculate_sum(numbers_list))\n"
   ]
  },
  {
   "cell_type": "code",
   "execution_count": 3,
   "id": "d8c948d3-254c-4d3e-9ee2-ebd617516da3",
   "metadata": {},
   "outputs": [
    {
     "name": "stdout",
     "output_type": "stream",
     "text": [
      "Original string: hello\n",
      "String in reverse order: olleh\n"
     ]
    }
   ],
   "source": [
    "#3)\n",
    "def reverse_string(string):\n",
    "    reversed_string = \"\"\n",
    "    for char in string[::-1]:\n",
    "        reversed_string += char\n",
    "    return reversed_string\n",
    "\n",
    "input_string = \"hello\"\n",
    "print(\"Original string:\", input_string)\n",
    "print(\"String in reverse order:\", reverse_string(input_string))\n"
   ]
  },
  {
   "cell_type": "code",
   "execution_count": 4,
   "id": "f03befc4-56c5-46a2-b637-f6de6035474f",
   "metadata": {},
   "outputs": [
    {
     "name": "stdout",
     "output_type": "stream",
     "text": [
      "Factorial of 5 is 120\n"
     ]
    }
   ],
   "source": [
    "#4)\n",
    "def factorial(n):\n",
    "    result = 1\n",
    "    for i in range(1, n + 1):\n",
    "        result *= i\n",
    "    return result\n",
    "number = 5\n",
    "print(\"Factorial of\", number, \"is\", factorial(number))\n"
   ]
  },
  {
   "cell_type": "code",
   "execution_count": 5,
   "id": "a477221a-b3df-4c2b-913e-5b83b5a309a3",
   "metadata": {},
   "outputs": [
    {
     "name": "stdout",
     "output_type": "stream",
     "text": [
      "Multiplication table for 7\n",
      "7 x 1 = 7\n",
      "7 x 2 = 14\n",
      "7 x 3 = 21\n",
      "7 x 4 = 28\n",
      "7 x 5 = 35\n",
      "7 x 6 = 42\n",
      "7 x 7 = 49\n",
      "7 x 8 = 56\n",
      "7 x 9 = 63\n",
      "7 x 10 = 70\n"
     ]
    }
   ],
   "source": [
    "#5)\n",
    "def multiplication_table(number):\n",
    "    print(\"Multiplication table for\", number)\n",
    "    for i in range(1, 11):\n",
    "        print(number, \"x\", i, \"=\", number * i)\n",
    "given_number = 7\n",
    "multiplication_table(given_number)\n",
    "\n"
   ]
  },
  {
   "cell_type": "code",
   "execution_count": 6,
   "id": "024ad188-babe-42ea-824a-bf401e0423aa",
   "metadata": {},
   "outputs": [
    {
     "name": "stdout",
     "output_type": "stream",
     "text": [
      "Number of even numbers: 5\n",
      "Number of odd numbers: 5\n"
     ]
    }
   ],
   "source": [
    "#6)\n",
    "def count_even_odd(numbers):\n",
    "    even_count = 0\n",
    "    odd_count = 0\n",
    "    for num in numbers:\n",
    "        if num % 2 == 0:\n",
    "            even_count += 1\n",
    "        else:\n",
    "            odd_count += 1\n",
    "    return even_count, odd_count\n",
    "numbers_list = [1, 2, 3, 4, 5, 6, 7, 8, 9, 10]\n",
    "even_count, odd_count = count_even_odd(numbers_list)\n",
    "print(\"Number of even numbers:\", even_count)\n",
    "print(\"Number of odd numbers:\", odd_count)\n"
   ]
  },
  {
   "cell_type": "code",
   "execution_count": 7,
   "id": "67a69538-4d80-4985-80dc-3b1aaa6c71ae",
   "metadata": {},
   "outputs": [
    {
     "name": "stdout",
     "output_type": "stream",
     "text": [
      "Square of 1 is 1\n",
      "Square of 2 is 4\n",
      "Square of 3 is 9\n",
      "Square of 4 is 16\n",
      "Square of 5 is 25\n"
     ]
    }
   ],
   "source": [
    "#7)\n",
    "def print_squares():\n",
    "    for i in range(1, 6):\n",
    "        print(\"Square of\", i, \"is\", i ** 2)\n",
    "print_squares()\n"
   ]
  },
  {
   "cell_type": "code",
   "execution_count": 8,
   "id": "7f45ec91-0b38-4a5f-a009-f1529cb36c6c",
   "metadata": {},
   "outputs": [
    {
     "name": "stdout",
     "output_type": "stream",
     "text": [
      "Length of the string: 13\n"
     ]
    }
   ],
   "source": [
    "#8)\n",
    "def string_length(string):\n",
    "    length = 0\n",
    "    for char in string:\n",
    "        length += 1\n",
    "    return length\n",
    "\n",
    "# Example usage:\n",
    "input_string = \"Hello, world!\"\n",
    "print(\"Length of the string:\", string_length(input_string))\n"
   ]
  },
  {
   "cell_type": "code",
   "execution_count": 9,
   "id": "cdec7874-677b-4e82-9ec5-0353bc9e0a63",
   "metadata": {},
   "outputs": [
    {
     "name": "stdout",
     "output_type": "stream",
     "text": [
      "Average of the numbers in the list: 30.0\n"
     ]
    }
   ],
   "source": [
    "#9)\n",
    "def calculate_average(numbers):\n",
    "    total = 0\n",
    "    for num in numbers:\n",
    "        total += num\n",
    "    average = total / len(numbers)\n",
    "    return average\n",
    "numbers_list = [10, 20, 30, 40, 50]\n",
    "print(\"Average of the numbers in the list:\", calculate_average(numbers_list))\n"
   ]
  },
  {
   "cell_type": "code",
   "execution_count": 10,
   "id": "c3d05b31-5e52-4efb-9c7a-1d3a4c7c5907",
   "metadata": {},
   "outputs": [
    {
     "name": "stdout",
     "output_type": "stream",
     "text": [
      "First 10 Fibonacci numbers:\n",
      "0 1 1 2 3 5 8 13 21 34 "
     ]
    }
   ],
   "source": [
    "#10)\n",
    "def fibonacci(n):\n",
    "    fib_sequence = [0, 1]  \n",
    "    for i in range(2, n):\n",
    "        next_num = fib_sequence[-1] + fib_sequence[-2]\n",
    "        fib_sequence.append(next_num)\n",
    "    \n",
    "    return fib_sequence\n",
    "\n",
    "n = 10  \n",
    "fib_numbers = fibonacci(n)\n",
    "print(\"First\", n, \"Fibonacci numbers:\")\n",
    "for num in fib_numbers:\n",
    "    print(num, end=\" \")\n"
   ]
  },
  {
   "cell_type": "code",
   "execution_count": 11,
   "id": "eacbddd9-5d2b-430a-bead-e79273472e9a",
   "metadata": {},
   "outputs": [
    {
     "name": "stdout",
     "output_type": "stream",
     "text": [
      "Does the list contain duplicates? False\n",
      "Does the list with duplicates contain duplicates? True\n"
     ]
    }
   ],
   "source": [
    "#11)\n",
    "def has_duplicates(lst):\n",
    "    seen = set()\n",
    "    for item in lst:\n",
    "        if item in seen:\n",
    "            return True\n",
    "        seen.add(item)\n",
    "    return False\n",
    "my_list = [1, 2, 3, 4, 5]\n",
    "print(\"Does the list contain duplicates?\", has_duplicates(my_list))\n",
    "\n",
    "my_list_with_duplicates = [1, 2, 3, 3, 4, 5]\n",
    "print(\"Does the list with duplicates contain duplicates?\", has_duplicates(my_list_with_duplicates))\n"
   ]
  },
  {
   "cell_type": "code",
   "execution_count": 12,
   "id": "d573d9d5-884b-49ce-93c0-fed6c8e33f29",
   "metadata": {},
   "outputs": [
    {
     "name": "stdout",
     "output_type": "stream",
     "text": [
      "Prime numbers in the range 10 to 50 are:\n",
      "11\n",
      "13\n",
      "17\n",
      "19\n",
      "23\n",
      "29\n",
      "31\n",
      "37\n",
      "41\n",
      "43\n",
      "47\n"
     ]
    }
   ],
   "source": [
    "#12)\n",
    "def is_prime(num):\n",
    "    if num <= 1:\n",
    "        return False\n",
    "    for i in range(2, int(num**0.5) + 1):\n",
    "        if num % i == 0:\n",
    "            return False\n",
    "    return True\n",
    "def print_prime_numbers(start, end):\n",
    "    print(\"Prime numbers in the range\", start, \"to\", end, \"are:\")\n",
    "    for num in range(start, end + 1):\n",
    "        if is_prime(num):\n",
    "            print(num)\n",
    "start_range = 10\n",
    "end_range = 50\n",
    "print_prime_numbers(start_range, end_range)\n"
   ]
  },
  {
   "cell_type": "code",
   "execution_count": 13,
   "id": "69a1ce77-c1c0-4d33-8717-0d8771cab956",
   "metadata": {},
   "outputs": [
    {
     "name": "stdout",
     "output_type": "stream",
     "text": [
      "Number of vowels in the string: 3\n"
     ]
    }
   ],
   "source": [
    "#13)\n",
    "def count_vowels(string):\n",
    "    vowels = \"aeiouAEIOU\"\n",
    "    count = 0\n",
    "    for char in string:\n",
    "        if char in vowels:\n",
    "            count += 1\n",
    "    return count\n",
    "\n",
    "input_string = \"Hello, World!\"\n",
    "print(\"Number of vowels in the string:\", count_vowels(input_string))\n"
   ]
  },
  {
   "cell_type": "code",
   "execution_count": 14,
   "id": "248c2f06-969f-4b96-a3f6-9d4922a2410e",
   "metadata": {},
   "outputs": [
    {
     "name": "stdout",
     "output_type": "stream",
     "text": [
      "Maximum element in the 2D list: 9\n"
     ]
    }
   ],
   "source": [
    "#14)\n",
    "def find_max_element(matrix):\n",
    "    max_element = matrix[0][0]\n",
    "    for row in matrix:\n",
    "        for element in row:\n",
    "            if element > max_element:\n",
    "                max_element = element\n",
    "    return max_element\n",
    "matrix = [\n",
    "    [1, 2, 3],\n",
    "    [4, 5, 6],\n",
    "    [7, 8, 9]\n",
    "]\n",
    "print(\"Maximum element in the 2D list:\", find_max_element(matrix))\n"
   ]
  },
  {
   "cell_type": "code",
   "execution_count": 15,
   "id": "e153327f-1f8f-4975-a869-db380d6037e2",
   "metadata": {},
   "outputs": [
    {
     "name": "stdout",
     "output_type": "stream",
     "text": [
      "Original list: [1, 2, 3, 4, 2, 5, 2, 6]\n",
      "Modified list after removing 2 : [1, 3, 4, 5, 6]\n"
     ]
    }
   ],
   "source": [
    "#15)\n",
    "def remove_element(lst, element):\n",
    "    new_lst = []\n",
    "    for item in lst:\n",
    "        if item != element:\n",
    "            new_lst.append(item)\n",
    "    return new_lst\n",
    "\n",
    "original_list = [1, 2, 3, 4, 2, 5, 2, 6]\n",
    "element_to_remove = 2\n",
    "modified_list = remove_element(original_list, element_to_remove)\n",
    "print(\"Original list:\", original_list)\n",
    "print(\"Modified list after removing\", element_to_remove, \":\", modified_list)\n"
   ]
  },
  {
   "cell_type": "code",
   "execution_count": 16,
   "id": "f72d5a66-6890-47b6-b51d-1a176fb17764",
   "metadata": {},
   "outputs": [
    {
     "name": "stdout",
     "output_type": "stream",
     "text": [
      "Multiplication table for 1\n",
      "1 x 1 = 1\n",
      "1 x 2 = 2\n",
      "1 x 3 = 3\n",
      "1 x 4 = 4\n",
      "1 x 5 = 5\n",
      "1 x 6 = 6\n",
      "1 x 7 = 7\n",
      "1 x 8 = 8\n",
      "1 x 9 = 9\n",
      "1 x 10 = 10\n",
      "\n",
      "Multiplication table for 2\n",
      "2 x 1 = 2\n",
      "2 x 2 = 4\n",
      "2 x 3 = 6\n",
      "2 x 4 = 8\n",
      "2 x 5 = 10\n",
      "2 x 6 = 12\n",
      "2 x 7 = 14\n",
      "2 x 8 = 16\n",
      "2 x 9 = 18\n",
      "2 x 10 = 20\n",
      "\n",
      "Multiplication table for 3\n",
      "3 x 1 = 3\n",
      "3 x 2 = 6\n",
      "3 x 3 = 9\n",
      "3 x 4 = 12\n",
      "3 x 5 = 15\n",
      "3 x 6 = 18\n",
      "3 x 7 = 21\n",
      "3 x 8 = 24\n",
      "3 x 9 = 27\n",
      "3 x 10 = 30\n",
      "\n",
      "Multiplication table for 4\n",
      "4 x 1 = 4\n",
      "4 x 2 = 8\n",
      "4 x 3 = 12\n",
      "4 x 4 = 16\n",
      "4 x 5 = 20\n",
      "4 x 6 = 24\n",
      "4 x 7 = 28\n",
      "4 x 8 = 32\n",
      "4 x 9 = 36\n",
      "4 x 10 = 40\n",
      "\n",
      "Multiplication table for 5\n",
      "5 x 1 = 5\n",
      "5 x 2 = 10\n",
      "5 x 3 = 15\n",
      "5 x 4 = 20\n",
      "5 x 5 = 25\n",
      "5 x 6 = 30\n",
      "5 x 7 = 35\n",
      "5 x 8 = 40\n",
      "5 x 9 = 45\n",
      "5 x 10 = 50\n",
      "\n"
     ]
    }
   ],
   "source": [
    "#16)\n",
    "def generate_multiplication_table():\n",
    "    for i in range(1, 6):\n",
    "        print(\"Multiplication table for\", i)\n",
    "        for j in range(1, 11):\n",
    "            print(i, \"x\", j, \"=\", i * j)\n",
    "        print()  \n",
    "generate_multiplication_table()\n"
   ]
  },
  {
   "cell_type": "code",
   "execution_count": 17,
   "id": "ea62851e-e12f-4082-9207-c7fb592e214b",
   "metadata": {},
   "outputs": [
    {
     "name": "stdout",
     "output_type": "stream",
     "text": [
      "Fahrenheit temperatures: [32, 68, 86, 104, 122]\n",
      "Celsius temperatures: [0.0, 20.0, 30.0, 40.0, 50.0]\n"
     ]
    }
   ],
   "source": [
    "#17)\n",
    "def fahrenheit_to_celsius(fahrenheit_temperatures):\n",
    "    celsius_temperatures = []\n",
    "    for temp in fahrenheit_temperatures:\n",
    "        celsius = (temp - 32) * 5 / 9\n",
    "        celsius_temperatures.append(celsius)\n",
    "    return celsius_temperatures\n",
    "\n",
    "fahrenheit_temperatures = [32, 68, 86, 104, 122]\n",
    "celsius_temperatures = fahrenheit_to_celsius(fahrenheit_temperatures)\n",
    "print(\"Fahrenheit temperatures:\", fahrenheit_temperatures)\n",
    "print(\"Celsius temperatures:\", celsius_temperatures)\n"
   ]
  },
  {
   "cell_type": "code",
   "execution_count": 18,
   "id": "e3ad43ca-1b63-4674-b5e3-fba8598bb955",
   "metadata": {},
   "outputs": [
    {
     "name": "stdout",
     "output_type": "stream",
     "text": [
      "Common elements between the two lists: [3, 4, 5]\n"
     ]
    }
   ],
   "source": [
    "#18)\n",
    "def find_common_elements(list1, list2):\n",
    "    common_elements = []\n",
    "    for item1 in list1:\n",
    "        for item2 in list2:\n",
    "            if item1 == item2:\n",
    "                common_elements.append(item1)\n",
    "    return common_elements\n",
    "\n",
    "list1 = [1, 2, 3, 4, 5]\n",
    "list2 = [3, 4, 5, 6, 7]\n",
    "common_elements = find_common_elements(list1, list2)\n",
    "print(\"Common elements between the two lists:\", common_elements)\n"
   ]
  },
  {
   "cell_type": "code",
   "execution_count": 19,
   "id": "4f815de2-f50b-434c-a2e8-850c383df3f9",
   "metadata": {},
   "outputs": [
    {
     "name": "stdout",
     "output_type": "stream",
     "text": [
      "Pattern of right-angled triangle:\n",
      "*\n",
      "**\n",
      "***\n",
      "****\n",
      "*****\n"
     ]
    }
   ],
   "source": [
    "#19)\n",
    "def print_right_angle_triangle(rows):\n",
    "    for i in range(1, rows + 1):\n",
    "        print(\"*\" * i)\n",
    "\n",
    "rows = 5\n",
    "print(\"Pattern of right-angled triangle:\")\n",
    "print_right_angle_triangle(rows)\n"
   ]
  },
  {
   "cell_type": "code",
   "execution_count": 20,
   "id": "dea2ead9-ed26-4cd3-8663-2b0ba208507b",
   "metadata": {},
   "outputs": [
    {
     "name": "stdout",
     "output_type": "stream",
     "text": [
      "GCD of 48 and 18 is 6\n"
     ]
    }
   ],
   "source": [
    "#20)\n",
    "def gcd(a, b):\n",
    "    if a < b:\n",
    "        a, b = b, a\n",
    "    for i in range(b, 0, -1):\n",
    "        if a % i == 0 and b % i == 0:\n",
    "            return i\n",
    "num1 = 48\n",
    "num2 = 18\n",
    "print(\"GCD of\", num1, \"and\", num2, \"is\", gcd(num1, num2))\n"
   ]
  },
  {
   "cell_type": "code",
   "execution_count": 21,
   "id": "5b98c7b4-3be2-45f0-8fb8-97ca4ed40973",
   "metadata": {},
   "outputs": [
    {
     "name": "stdout",
     "output_type": "stream",
     "text": [
      "Original numbers list: [123, 456, 789]\n",
      "Sum of digits for each number: [6, 15, 24]\n"
     ]
    }
   ],
   "source": [
    "#21)\n",
    "def sum_of_digits(numbers):\n",
    "    return [sum(int(digit) for digit in str(num)) for num in numbers]\n",
    "numbers_list = [123, 456, 789]\n",
    "sum_of_digits_list = sum_of_digits(numbers_list)\n",
    "print(\"Original numbers list:\", numbers_list)\n",
    "print(\"Sum of digits for each number:\", sum_of_digits_list)\n"
   ]
  },
  {
   "cell_type": "code",
   "execution_count": 22,
   "id": "2845e9f8-1bfd-4345-b7f7-a906b9450c47",
   "metadata": {},
   "outputs": [
    {
     "name": "stdout",
     "output_type": "stream",
     "text": [
      "Prime factors of 84 are: [2, 2, 3, 7]\n"
     ]
    }
   ],
   "source": [
    "#22)\n",
    "def prime_factors(number):\n",
    "    factors = []\n",
    "    for i in range(2, number + 1):\n",
    "        while number % i == 0:\n",
    "            factors.append(i)\n",
    "            number //= i\n",
    "    return factors\n",
    "number = 84\n",
    "prime_factors_list = prime_factors(number)\n",
    "print(\"Prime factors of\", number, \"are:\", prime_factors_list)\n"
   ]
  },
  {
   "cell_type": "code",
   "execution_count": 23,
   "id": "738f2b18-34fe-4592-b8bd-5f6cc793b2c3",
   "metadata": {},
   "outputs": [
    {
     "name": "stdout",
     "output_type": "stream",
     "text": [
      "Original list: [1, 2, 3, 4, 2, 3, 5, 6, 1]\n",
      "List with unique elements: [1, 2, 3, 4, 5, 6]\n"
     ]
    }
   ],
   "source": [
    "#23)\n",
    "def extract_unique_elements(input_list):\n",
    "    return [x for i, x in enumerate(input_list) if input_list.index(x) == i]\n",
    "original_list = [1, 2, 3, 4, 2, 3, 5, 6, 1]\n",
    "unique_elements_list = extract_unique_elements(original_list)\n",
    "print(\"Original list:\", original_list)\n",
    "print(\"List with unique elements:\", unique_elements_list)\n"
   ]
  },
  {
   "cell_type": "code",
   "execution_count": 24,
   "id": "c7edc140-a572-4944-abe5-fcb9a87bbdec",
   "metadata": {},
   "outputs": [
    {
     "name": "stdout",
     "output_type": "stream",
     "text": [
      "Palindromic numbers up to 100 : [0, 1, 2, 3, 4, 5, 6, 7, 8, 9, 11, 22, 33, 44, 55, 66, 77, 88, 99]\n"
     ]
    }
   ],
   "source": [
    "#24)\n",
    "def is_palindromic(num):\n",
    "    return str(num) == str(num)[::-1]\n",
    "\n",
    "def palindromic_numbers(limit):\n",
    "    return [num for num in range(limit + 1) if is_palindromic(num)]\n",
    "limit = 100\n",
    "palindromic_list = palindromic_numbers(limit)\n",
    "print(\"Palindromic numbers up to\", limit, \":\", palindromic_list)\n"
   ]
  },
  {
   "cell_type": "code",
   "execution_count": 25,
   "id": "ca5aa3c6-a2aa-4179-871b-165ac580a7d9",
   "metadata": {},
   "outputs": [
    {
     "name": "stdout",
     "output_type": "stream",
     "text": [
      "Original nested list: [[1, 2, [3, 4]], [5, [6, 7]], 8, [9, 10]]\n",
      "Flattened list: [1, 2, [3, 4], 5, [6, 7], 8, 9, 10]\n"
     ]
    }
   ],
   "source": [
    "#25)\n",
    "def flatten_nested_list(nested_list):\n",
    "    return [item for sublist in nested_list for item in (sublist if isinstance(sublist, list) else [sublist])]\n",
    "\n",
    "nested_list = [[1, 2, [3, 4]], [5, [6, 7]], 8, [9, 10]]\n",
    "flattened_list = flatten_nested_list(nested_list)\n",
    "print(\"Original nested list:\", nested_list)\n",
    "print(\"Flattened list:\", flattened_list)\n"
   ]
  },
  {
   "cell_type": "code",
   "execution_count": 26,
   "id": "36a4b807-10de-40a9-bbb1-9ebd00bb1654",
   "metadata": {},
   "outputs": [
    {
     "name": "stdout",
     "output_type": "stream",
     "text": [
      "Original numbers list: [1, 2, 3, 4, 5, 6, 7, 8, 9, 10]\n",
      "Sum of even numbers: 30\n",
      "Sum of odd numbers: 25\n"
     ]
    }
   ],
   "source": [
    "#26)\n",
    "def sum_even_odd(numbers):\n",
    "    even_sum = sum(num for num in numbers if num % 2 == 0)\n",
    "    odd_sum = sum(num for num in numbers if num % 2 != 0)\n",
    "    return even_sum, odd_sum\n",
    "numbers_list = [1, 2, 3, 4, 5, 6, 7, 8, 9, 10]\n",
    "even_sum, odd_sum = sum_even_odd(numbers_list)\n",
    "print(\"Original numbers list:\", numbers_list)\n",
    "print(\"Sum of even numbers:\", even_sum)\n",
    "print(\"Sum of odd numbers:\", odd_sum)\n"
   ]
  },
  {
   "cell_type": "code",
   "execution_count": 27,
   "id": "1aa78af6-4302-400c-beae-b1de8947c6f3",
   "metadata": {},
   "outputs": [
    {
     "name": "stdout",
     "output_type": "stream",
     "text": [
      "List of squares of odd numbers between 1 and 10: [1, 9, 25, 49, 81]\n"
     ]
    }
   ],
   "source": [
    "#27)\n",
    "squares_of_odd_numbers = [num ** 2 for num in range(1, 11) if num % 2 != 0]\n",
    "\n",
    "print(\"List of squares of odd numbers between 1 and 10:\", squares_of_odd_numbers)\n"
   ]
  },
  {
   "cell_type": "code",
   "execution_count": 28,
   "id": "a5cb1ed8-68d3-46cf-88cf-2dcfe6f9ce29",
   "metadata": {},
   "outputs": [
    {
     "name": "stdout",
     "output_type": "stream",
     "text": [
      "Combined dictionary: {'a': 1, 'b': 2, 'c': 3}\n"
     ]
    }
   ],
   "source": [
    "#28)\n",
    "keys = ['a', 'b', 'c']\n",
    "values = [1, 2, 3]\n",
    "\n",
    "combined_dict = {key: value for key, value in zip(keys, values)}\n",
    "\n",
    "print(\"Combined dictionary:\", combined_dict)\n"
   ]
  },
  {
   "cell_type": "code",
   "execution_count": 29,
   "id": "22b933e3-7644-4108-8ebd-74d1cd557104",
   "metadata": {},
   "outputs": [
    {
     "name": "stdout",
     "output_type": "stream",
     "text": [
      "Vowels in the string: ['e', 'o', 'o']\n"
     ]
    }
   ],
   "source": [
    "#29)\n",
    "def extract_vowels(text):\n",
    "    vowels = 'aeiouAEIOU'\n",
    "    return [char for char in text if char in vowels]\n",
    "\n",
    "input_string = \"Hello, World!\"\n",
    "vowels_list = extract_vowels(input_string)\n",
    "print(\"Vowels in the string:\", vowels_list)\n"
   ]
  },
  {
   "cell_type": "code",
   "execution_count": 30,
   "id": "dced8d5b-6bbb-4474-b292-ec19a54840df",
   "metadata": {},
   "outputs": [
    {
     "name": "stdout",
     "output_type": "stream",
     "text": [
      "Original list of strings: ['abc123', '456def', '789ghi', 'jklmno']\n",
      "List with non-numeric characters removed: ['123', '456', '789', '']\n"
     ]
    }
   ],
   "source": [
    "#30)\n",
    "def remove_non_numeric(strings):\n",
    "    return [''.join(char for char in string if char.isdigit()) for string in strings]\n",
    "\n",
    "strings_list = ['abc123', '456def', '789ghi', 'jklmno']\n",
    "numeric_strings_list = remove_non_numeric(strings_list)\n",
    "print(\"Original list of strings:\", strings_list)\n",
    "print(\"List with non-numeric characters removed:\", numeric_strings_list)\n"
   ]
  },
  {
   "cell_type": "code",
   "execution_count": 31,
   "id": "506f232c-c611-4dfc-8db9-a962dd99ec71",
   "metadata": {},
   "outputs": [
    {
     "name": "stdout",
     "output_type": "stream",
     "text": [
      "Prime numbers up to 100 : [2, 3, 5, 7, 11, 13, 17, 19, 23, 29, 31, 37, 41, 43, 47, 53, 59, 61, 67, 71, 73, 79, 83, 89, 97]\n"
     ]
    }
   ],
   "source": [
    "#31)\n",
    "def sieve_of_eratosthenes(limit):\n",
    "    sieve = [True] * (limit + 1)\n",
    "    sieve[0] = sieve[1] = False\n",
    "\n",
    "    for i in range(2, int(limit**0.5) + 1):\n",
    "        if sieve[i]:\n",
    "            for j in range(i * i, limit + 1, i):\n",
    "                sieve[j] = False\n",
    "\n",
    "    return [num for num, is_prime in enumerate(sieve) if is_prime]\n",
    "limit = 100\n",
    "prime_numbers = sieve_of_eratosthenes(limit)\n",
    "print(\"Prime numbers up to\", limit, \":\", prime_numbers)\n"
   ]
  },
  {
   "cell_type": "code",
   "execution_count": 32,
   "id": "4c981f6b-6146-4d4f-b305-6e4f02262465",
   "metadata": {},
   "outputs": [
    {
     "name": "stdout",
     "output_type": "stream",
     "text": [
      "Pythagorean triplets up to 20 : [(3, 4, 5), (5, 12, 13), (6, 8, 10), (8, 15, 17), (9, 12, 15)]\n"
     ]
    }
   ],
   "source": [
    "#32)\n",
    "def pythagorean_triplets(limit):\n",
    "    return [(a, b, c) for a in range(1, limit)\n",
    "                      for b in range(a, limit)\n",
    "                      for c in range(b, limit)\n",
    "                      if a**2 + b**2 == c**2]\n",
    "limit = 20\n",
    "triplets = pythagorean_triplets(limit)\n",
    "print(\"Pythagorean triplets up to\", limit, \":\", triplets)\n"
   ]
  },
  {
   "cell_type": "code",
   "execution_count": 33,
   "id": "a210488f-9b92-468e-8d4f-2b61630c63dc",
   "metadata": {},
   "outputs": [
    {
     "name": "stdout",
     "output_type": "stream",
     "text": [
      "All possible combinations of [1, 2, 3] and ['a', 'b', 'c'] : [(1, 'a'), (1, 'b'), (1, 'c'), (2, 'a'), (2, 'b'), (2, 'c'), (3, 'a'), (3, 'b'), (3, 'c')]\n"
     ]
    }
   ],
   "source": [
    "#33)\n",
    "def generate_combinations(list1, list2):\n",
    "    return [(x, y) for x in list1 for y in list2]\n",
    "\n",
    "list1 = [1, 2, 3]\n",
    "list2 = ['a', 'b', 'c']\n",
    "combinations = generate_combinations(list1, list2)\n",
    "print(\"All possible combinations of\", list1, \"and\", list2, \":\", combinations)\n"
   ]
  },
  {
   "cell_type": "code",
   "execution_count": 34,
   "id": "cd733cc6-130e-4fb1-8365-397adf355bc4",
   "metadata": {},
   "outputs": [
    {
     "name": "stdout",
     "output_type": "stream",
     "text": [
      "List of numbers: [1, 2, 3, 4, 5, 5, 6, 6, 7, 8, 9]\n",
      "Mean: 5.090909090909091\n",
      "Median: 5\n",
      "Mode: 5\n"
     ]
    }
   ],
   "source": [
    "#34)\n",
    "from collections import Counter\n",
    "\n",
    "def calculate_mean(numbers):\n",
    "    return sum(numbers) / len(numbers)\n",
    "\n",
    "def calculate_median(numbers):\n",
    "    sorted_numbers = sorted(numbers)\n",
    "    length = len(sorted_numbers)\n",
    "    if length % 2 == 0:\n",
    "        return (sorted_numbers[length // 2 - 1] + sorted_numbers[length // 2]) / 2\n",
    "    else:\n",
    "        return sorted_numbers[length // 2]\n",
    "\n",
    "def calculate_mode(numbers):\n",
    "    frequency_counter = Counter(numbers)\n",
    "    mode = frequency_counter.most_common(1)[0][0]\n",
    "    return mode\n",
    "numbers_list = [1, 2, 3, 4, 5, 5, 6, 6, 7, 8, 9]\n",
    "mean = calculate_mean(numbers_list)\n",
    "median = calculate_median(numbers_list)\n",
    "mode = calculate_mode(numbers_list)\n",
    "print(\"List of numbers:\", numbers_list)\n",
    "print(\"Mean:\", mean)\n",
    "print(\"Median:\", median)\n",
    "print(\"Mode:\", mode)\n"
   ]
  },
  {
   "cell_type": "code",
   "execution_count": 35,
   "id": "f0723fa6-f29c-4603-b867-76528049593c",
   "metadata": {},
   "outputs": [
    {
     "name": "stdout",
     "output_type": "stream",
     "text": [
      "Pascal's triangle with 5 rows:\n",
      "         1          \n",
      "        1 1         \n",
      "       1 2 1        \n",
      "      1 3 3 1       \n",
      "     1 4 6 4 1      \n"
     ]
    }
   ],
   "source": [
    "#35)\n",
    "def generate_pascals_triangle(num_rows):\n",
    "    triangle = [[1]]\n",
    "    for _ in range(1, num_rows):\n",
    "        row = [1] + [triangle[-1][i] + triangle[-1][i + 1] for i in range(len(triangle[-1]) - 1)] + [1]\n",
    "        triangle.append(row)\n",
    "    return triangle\n",
    "\n",
    "def display_pascals_triangle(triangle):\n",
    "    for row in triangle:\n",
    "        print(\" \".join(str(num) for num in row).center(len(triangle[-1]) * 4))\n",
    "num_rows = 5\n",
    "pascals_triangle = generate_pascals_triangle(num_rows)\n",
    "print(\"Pascal's triangle with\", num_rows, \"rows:\")\n",
    "display_pascals_triangle(pascals_triangle)\n"
   ]
  },
  {
   "cell_type": "code",
   "execution_count": 36,
   "id": "fb992765-2d50-48cc-9c86-761a541c53c7",
   "metadata": {},
   "outputs": [
    {
     "name": "stdout",
     "output_type": "stream",
     "text": [
      "Sum of digits of factorial of 1: 1\n",
      "Sum of digits of factorial of 2: 2\n",
      "Sum of digits of factorial of 3: 6\n",
      "Sum of digits of factorial of 4: 6\n",
      "Sum of digits of factorial of 5: 3\n"
     ]
    }
   ],
   "source": [
    "#36)\n",
    "def factorial(n):\n",
    "    if n == 0:\n",
    "        return 1\n",
    "    else:\n",
    "        return n * factorial(n - 1)\n",
    "\n",
    "def sum_of_digits(n):\n",
    "    return sum(int(digit) for digit in str(n))\n",
    "\n",
    "factorial_sums = [sum_of_digits(factorial(i)) for i in range(1, 6)]\n",
    "\n",
    "for i, factorial_sum in enumerate(factorial_sums, start=1):\n",
    "    print(f\"Sum of digits of factorial of {i}: {factorial_sum}\")\n"
   ]
  },
  {
   "cell_type": "code",
   "execution_count": 37,
   "id": "38d4f943-79dc-4d95-8982-3746493cfa9a",
   "metadata": {},
   "outputs": [
    {
     "name": "stdout",
     "output_type": "stream",
     "text": [
      "Longest word in the sentence: quick\n"
     ]
    }
   ],
   "source": [
    "#37)\n",
    "def find_longest_word(sentence):\n",
    "    words = sentence.split()\n",
    "    longest_word = max(words, key=len)\n",
    "    return longest_word\n",
    "sentence = \"The quick brown fox jumps over the lazy dog\"\n",
    "longest_word = find_longest_word(sentence)\n",
    "print(\"Longest word in the sentence:\", longest_word)\n"
   ]
  },
  {
   "cell_type": "code",
   "execution_count": 38,
   "id": "0ffd8d1b-b14e-4b4a-81e4-c0d026c3ff6a",
   "metadata": {},
   "outputs": [
    {
     "name": "stdout",
     "output_type": "stream",
     "text": [
      "Original list of strings: ['hello', 'world', 'python', 'programming', 'awesome', 'algorithm']\n",
      "Filtered list with more than three vowels: ['awesome']\n"
     ]
    }
   ],
   "source": [
    "#38)\n",
    "def count_vowels(word):\n",
    "    vowels = \"aeiouAEIOU\"\n",
    "    return sum(1 for char in word if char in vowels)\n",
    "\n",
    "def filter_strings_with_more_than_three_vowels(strings):\n",
    "    return [string for string in strings if count_vowels(string) > 3]\n",
    "strings_list = [\"hello\", \"world\", \"python\", \"programming\", \"awesome\", \"algorithm\"]\n",
    "filtered_strings = filter_strings_with_more_than_three_vowels(strings_list)\n",
    "print(\"Original list of strings:\", strings_list)\n",
    "print(\"Filtered list with more than three vowels:\", filtered_strings)\n"
   ]
  },
  {
   "cell_type": "code",
   "execution_count": 39,
   "id": "aa0078e3-1ae1-4189-900c-3bcc866ea18c",
   "metadata": {},
   "outputs": [
    {
     "name": "stdout",
     "output_type": "stream",
     "text": [
      "Sum of digits for numbers from 1 to 1000: 13501\n"
     ]
    }
   ],
   "source": [
    "#39)\n",
    "def sum_of_digits(n):\n",
    "    return sum(int(digit) for digit in str(n))\n",
    "\n",
    "total_sum = sum(sum_of_digits(num) for num in range(1, 1001))\n",
    "\n",
    "print(\"Sum of digits for numbers from 1 to 1000:\", total_sum)\n"
   ]
  },
  {
   "cell_type": "code",
   "execution_count": 40,
   "id": "6a2c12c7-d055-4e6f-bc02-32f81122fb6b",
   "metadata": {},
   "outputs": [
    {
     "name": "stdout",
     "output_type": "stream",
     "text": [
      "Prime palindromic numbers up to 1000 : [2, 3, 5, 7, 11, 101, 131, 151, 181, 191, 313, 353, 373, 383, 727, 757, 787, 797, 919, 929]\n"
     ]
    }
   ],
   "source": [
    "#40)\n",
    "def is_prime(num):\n",
    "    if num < 2:\n",
    "        return False\n",
    "    for i in range(2, int(num ** 0.5) + 1):\n",
    "        if num % i == 0:\n",
    "            return False\n",
    "    return True\n",
    "\n",
    "def generate_palindromic_numbers(limit):\n",
    "    return [num for num in range(2, limit) if str(num) == str(num)[::-1] and is_prime(num)]\n",
    "\n",
    "limit = 1000\n",
    "prime_palindromic_numbers = generate_palindromic_numbers(limit)\n",
    "print(\"Prime palindromic numbers up to\", limit, \":\", prime_palindromic_numbers)\n"
   ]
  }
 ],
 "metadata": {
  "kernelspec": {
   "display_name": "Python 3 (ipykernel)",
   "language": "python",
   "name": "python3"
  },
  "language_info": {
   "codemirror_mode": {
    "name": "ipython",
    "version": 3
   },
   "file_extension": ".py",
   "mimetype": "text/x-python",
   "name": "python",
   "nbconvert_exporter": "python",
   "pygments_lexer": "ipython3",
   "version": "3.10.8"
  }
 },
 "nbformat": 4,
 "nbformat_minor": 5
}
